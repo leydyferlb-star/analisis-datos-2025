{
 "cells": [
  {
   "cell_type": "code",
   "execution_count": null,
   "id": "73cdf242",
   "metadata": {},
   "outputs": [],
   "source": []
  },
  {
   "cell_type": "code",
   "execution_count": 1,
   "id": "46d66508",
   "metadata": {},
   "outputs": [],
   "source": [
    "# ejemplo importar pandas\n",
    "\n",
    "import pandas as pd # importa la libreria panda y le coloco pd\n",
    "from sklearn.datasets import load_iris # importa la funcion load_iris de la libreria sklean"
   ]
  },
  {
   "cell_type": "code",
   "execution_count": 2,
   "id": "8816cece",
   "metadata": {},
   "outputs": [],
   "source": [
    "# Crear un dataframe a partir de un diccionario\n",
    "datos_inicial = {\"edad\":[18, 18, 25, 32],\n",
    "                 \"estatura\":[1.7, 1.65, 1.82, 2],\n",
    "                 \"nacionalidad\": [\"Peru\", \"Peru\", \"EEUU\", \"Ucrania\"],\n",
    "                 \"c_hijos\": [1, \"dos\", \"cero\", 2]}\n",
    "\n",
    "df = pd.DataFrame(datos_inicial) # crea un dataframe a partir del diccionario"
   ]
  },
  {
   "cell_type": "code",
   "execution_count": 3,
   "id": "f71491de",
   "metadata": {},
   "outputs": [
    {
     "data": {
      "text/html": [
       "<div>\n",
       "<style scoped>\n",
       "    .dataframe tbody tr th:only-of-type {\n",
       "        vertical-align: middle;\n",
       "    }\n",
       "\n",
       "    .dataframe tbody tr th {\n",
       "        vertical-align: top;\n",
       "    }\n",
       "\n",
       "    .dataframe thead th {\n",
       "        text-align: right;\n",
       "    }\n",
       "</style>\n",
       "<table border=\"1\" class=\"dataframe\">\n",
       "  <thead>\n",
       "    <tr style=\"text-align: right;\">\n",
       "      <th></th>\n",
       "      <th>edad</th>\n",
       "      <th>estatura</th>\n",
       "      <th>nacionalidad</th>\n",
       "      <th>c_hijos</th>\n",
       "    </tr>\n",
       "  </thead>\n",
       "  <tbody>\n",
       "    <tr>\n",
       "      <th>0</th>\n",
       "      <td>18</td>\n",
       "      <td>1.70</td>\n",
       "      <td>Peru</td>\n",
       "      <td>1</td>\n",
       "    </tr>\n",
       "    <tr>\n",
       "      <th>1</th>\n",
       "      <td>18</td>\n",
       "      <td>1.65</td>\n",
       "      <td>Peru</td>\n",
       "      <td>dos</td>\n",
       "    </tr>\n",
       "    <tr>\n",
       "      <th>2</th>\n",
       "      <td>25</td>\n",
       "      <td>1.82</td>\n",
       "      <td>EEUU</td>\n",
       "      <td>cero</td>\n",
       "    </tr>\n",
       "    <tr>\n",
       "      <th>3</th>\n",
       "      <td>32</td>\n",
       "      <td>2.00</td>\n",
       "      <td>Ucrania</td>\n",
       "      <td>2</td>\n",
       "    </tr>\n",
       "  </tbody>\n",
       "</table>\n",
       "</div>"
      ],
      "text/plain": [
       "   edad  estatura nacionalidad c_hijos\n",
       "0    18      1.70         Peru       1\n",
       "1    18      1.65         Peru     dos\n",
       "2    25      1.82         EEUU    cero\n",
       "3    32      2.00      Ucrania       2"
      ]
     },
     "execution_count": 3,
     "metadata": {},
     "output_type": "execute_result"
    }
   ],
   "source": [
    "df"
   ]
  },
  {
   "cell_type": "code",
   "execution_count": 4,
   "id": "54a04014",
   "metadata": {},
   "outputs": [
    {
     "name": "stdout",
     "output_type": "stream",
     "text": [
      "<class 'pandas.core.frame.DataFrame'>\n",
      "RangeIndex: 4 entries, 0 to 3\n",
      "Data columns (total 4 columns):\n",
      " #   Column        Non-Null Count  Dtype  \n",
      "---  ------        --------------  -----  \n",
      " 0   edad          4 non-null      int64  \n",
      " 1   estatura      4 non-null      float64\n",
      " 2   nacionalidad  4 non-null      object \n",
      " 3   c_hijos       4 non-null      object \n",
      "dtypes: float64(1), int64(1), object(2)\n",
      "memory usage: 260.0+ bytes\n"
     ]
    }
   ],
   "source": [
    "df.info() # muestra informacion del dataframe df"
   ]
  },
  {
   "cell_type": "code",
   "execution_count": 5,
   "id": "b0446579",
   "metadata": {},
   "outputs": [
    {
     "data": {
      "text/html": [
       "<div>\n",
       "<style scoped>\n",
       "    .dataframe tbody tr th:only-of-type {\n",
       "        vertical-align: middle;\n",
       "    }\n",
       "\n",
       "    .dataframe tbody tr th {\n",
       "        vertical-align: top;\n",
       "    }\n",
       "\n",
       "    .dataframe thead th {\n",
       "        text-align: right;\n",
       "    }\n",
       "</style>\n",
       "<table border=\"1\" class=\"dataframe\">\n",
       "  <thead>\n",
       "    <tr style=\"text-align: right;\">\n",
       "      <th></th>\n",
       "      <th>edad</th>\n",
       "      <th>estatura</th>\n",
       "    </tr>\n",
       "  </thead>\n",
       "  <tbody>\n",
       "    <tr>\n",
       "      <th>count</th>\n",
       "      <td>4.00000</td>\n",
       "      <td>4.000000</td>\n",
       "    </tr>\n",
       "    <tr>\n",
       "      <th>mean</th>\n",
       "      <td>23.25000</td>\n",
       "      <td>1.792500</td>\n",
       "    </tr>\n",
       "    <tr>\n",
       "      <th>std</th>\n",
       "      <td>6.70199</td>\n",
       "      <td>0.155644</td>\n",
       "    </tr>\n",
       "    <tr>\n",
       "      <th>min</th>\n",
       "      <td>18.00000</td>\n",
       "      <td>1.650000</td>\n",
       "    </tr>\n",
       "    <tr>\n",
       "      <th>25%</th>\n",
       "      <td>18.00000</td>\n",
       "      <td>1.687500</td>\n",
       "    </tr>\n",
       "    <tr>\n",
       "      <th>50%</th>\n",
       "      <td>21.50000</td>\n",
       "      <td>1.760000</td>\n",
       "    </tr>\n",
       "    <tr>\n",
       "      <th>75%</th>\n",
       "      <td>26.75000</td>\n",
       "      <td>1.865000</td>\n",
       "    </tr>\n",
       "    <tr>\n",
       "      <th>max</th>\n",
       "      <td>32.00000</td>\n",
       "      <td>2.000000</td>\n",
       "    </tr>\n",
       "  </tbody>\n",
       "</table>\n",
       "</div>"
      ],
      "text/plain": [
       "           edad  estatura\n",
       "count   4.00000  4.000000\n",
       "mean   23.25000  1.792500\n",
       "std     6.70199  0.155644\n",
       "min    18.00000  1.650000\n",
       "25%    18.00000  1.687500\n",
       "50%    21.50000  1.760000\n",
       "75%    26.75000  1.865000\n",
       "max    32.00000  2.000000"
      ]
     },
     "execution_count": 5,
     "metadata": {},
     "output_type": "execute_result"
    }
   ],
   "source": [
    "df.describe() # muestra estdisticas descriptivas del dataframe de las columnas que tengan valor numerico"
   ]
  },
  {
   "cell_type": "code",
   "execution_count": 8,
   "id": "fad5f571",
   "metadata": {},
   "outputs": [
    {
     "data": {
      "text/plain": [
       "<Axes: >"
      ]
     },
     "execution_count": 8,
     "metadata": {},
     "output_type": "execute_result"
    },
    {
     "data": {
      "image/png": "[encoded data removed]",
      "text/plain": [
       "<Figure size 640x480 with 1 Axes>"
      ]
     },
     "metadata": {},
     "output_type": "display_data"
    }
   ],
   "source": [
    "# genera graficos de barras\n",
    "df[\"edad\"].plot(kind=\"bar\") # genera un grafico de barras de la columna edad del dataframe df\n"
   ]
  },
  {
   "cell_type": "code",
   "execution_count": 16,
   "id": "64d83c6e",
   "metadata": {},
   "outputs": [
    {
     "data": {
      "text/plain": [
       "<Axes: ylabel='count'>"
      ]
     },
     "execution_count": 16,
     "metadata": {},
     "output_type": "execute_result"
    },
    {
     "data": {
      "image/png": "[encoded data removed]",
      "text/plain": [
       "<Figure size 640x480 with 1 Axes>"
      ]
     },
     "metadata": {},
     "output_type": "display_data"
    }
   ],
   "source": [
    "frecuencia = df[\"nacionalidad\"].value_counts() # cuenta las frecuencias de la columna nacionalidad del dataframe df\n",
    "frecuencia.plot(kind=\"pie\", legend=frecuencia.all(), autopct='%1.1f%%')"
   ]
  },
  {
   "cell_type": "code",
   "execution_count": null,
   "id": "52288fde",
   "metadata": {},
   "outputs": [
    {
     "data": {
      "text/plain": [
       "<Axes: xlabel='edad', ylabel='estatura'>"
      ]
     },
     "execution_count": 10,
     "metadata": {},
     "output_type": "execute_result"
    },
    {
     "data": {
      "image/png": "[encoded data removed]",
      "text/plain": [
       "<Figure size 640x480 with 1 Axes>"
      ]
     },
     "metadata": {},
     "output_type": "display_data"
    }
   ],
   "source": [
    "# graficar una nube de puntos\n",
    "df.plot(kind=\"scatter\", x=\"edad\", y=\"estatura\") # grafico de barras de la columna edad vs estatura del dataframe df"
   ]
  },
  {
   "cell_type": "code",
   "execution_count": 18,
   "id": "3a446e7a",
   "metadata": {},
   "outputs": [],
   "source": [
    "# guardar mi df en un archivo csv\n",
    "df.to_csv(\"df_23_08.csv\", index=False) # guarda el dataframe en un archivo csv\n",
    "df.to_excel(\"df_23_08.xlsx\", index=False)# guarda el dataframe en un archivo csv\n",
    "df.to_json(\"df_23_08.json\", index=False)# guarda el dataframe en un archivo json"
   ]
  },
  {
   "cell_type": "code",
   "execution_count": 40,
   "id": "8dacfd42",
   "metadata": {},
   "outputs": [],
   "source": [
    "# definir rutas de archivos a cargar\n",
    "path_csv=\"df_23_08.csv\"\n",
    "path_excel=\"df_23_08.xlsx\"\n",
    "path_json=\"datos_json/df_23_08.json\""
   ]
  },
  {
   "cell_type": "code",
   "execution_count": 28,
   "id": "c716efd1",
   "metadata": {},
   "outputs": [
    {
     "data": {
      "text/html": [
       "<div>\n",
       "<style scoped>\n",
       "    .dataframe tbody tr th:only-of-type {\n",
       "        vertical-align: middle;\n",
       "    }\n",
       "\n",
       "    .dataframe tbody tr th {\n",
       "        vertical-align: top;\n",
       "    }\n",
       "\n",
       "    .dataframe thead th {\n",
       "        text-align: right;\n",
       "    }\n",
       "</style>\n",
       "<table border=\"1\" class=\"dataframe\">\n",
       "  <thead>\n",
       "    <tr style=\"text-align: right;\">\n",
       "      <th></th>\n",
       "      <th>edad</th>\n",
       "      <th>estatura</th>\n",
       "      <th>nacionalidad</th>\n",
       "      <th>c_hijos</th>\n",
       "    </tr>\n",
       "  </thead>\n",
       "  <tbody>\n",
       "    <tr>\n",
       "      <th>0</th>\n",
       "      <td>18</td>\n",
       "      <td>1.70</td>\n",
       "      <td>Peru</td>\n",
       "      <td>1</td>\n",
       "    </tr>\n",
       "    <tr>\n",
       "      <th>1</th>\n",
       "      <td>18</td>\n",
       "      <td>1.65</td>\n",
       "      <td>Peru</td>\n",
       "      <td>dos</td>\n",
       "    </tr>\n",
       "    <tr>\n",
       "      <th>2</th>\n",
       "      <td>25</td>\n",
       "      <td>1.82</td>\n",
       "      <td>EEUU</td>\n",
       "      <td>cero</td>\n",
       "    </tr>\n",
       "    <tr>\n",
       "      <th>3</th>\n",
       "      <td>32</td>\n",
       "      <td>2.00</td>\n",
       "      <td>Ucrania</td>\n",
       "      <td>2</td>\n",
       "    </tr>\n",
       "  </tbody>\n",
       "</table>\n",
       "</div>"
      ],
      "text/plain": [
       "   edad  estatura nacionalidad c_hijos\n",
       "0    18      1.70         Peru       1\n",
       "1    18      1.65         Peru     dos\n",
       "2    25      1.82         EEUU    cero\n",
       "3    32      2.00      Ucrania       2"
      ]
     },
     "execution_count": 28,
     "metadata": {},
     "output_type": "execute_result"
    }
   ],
   "source": [
    "#cargar documento csv\n",
    "df_csv=pd.read_csv(path_csv)\n",
    "df_csv"
   ]
  },
  {
   "cell_type": "code",
   "execution_count": null,
   "id": "7faea8f2",
   "metadata": {},
   "outputs": [
    {
     "data": {
      "text/html": [
       "<div>\n",
       "<style scoped>\n",
       "    .dataframe tbody tr th:only-of-type {\n",
       "        vertical-align: middle;\n",
       "    }\n",
       "\n",
       "    .dataframe tbody tr th {\n",
       "        vertical-align: top;\n",
       "    }\n",
       "\n",
       "    .dataframe thead th {\n",
       "        text-align: right;\n",
       "    }\n",
       "</style>\n",
       "<table border=\"1\" class=\"dataframe\">\n",
       "  <thead>\n",
       "    <tr style=\"text-align: right;\">\n",
       "      <th></th>\n",
       "      <th>edad</th>\n",
       "      <th>estatura</th>\n",
       "      <th>nacionalidad</th>\n",
       "      <th>c_hijos</th>\n",
       "    </tr>\n",
       "  </thead>\n",
       "  <tbody>\n",
       "    <tr>\n",
       "      <th>0</th>\n",
       "      <td>18</td>\n",
       "      <td>1.70</td>\n",
       "      <td>Peru</td>\n",
       "      <td>1</td>\n",
       "    </tr>\n",
       "    <tr>\n",
       "      <th>1</th>\n",
       "      <td>18</td>\n",
       "      <td>1.65</td>\n",
       "      <td>Peru</td>\n",
       "      <td>dos</td>\n",
       "    </tr>\n",
       "    <tr>\n",
       "      <th>2</th>\n",
       "      <td>25</td>\n",
       "      <td>1.82</td>\n",
       "      <td>EEUU</td>\n",
       "      <td>cero</td>\n",
       "    </tr>\n",
       "    <tr>\n",
       "      <th>3</th>\n",
       "      <td>32</td>\n",
       "      <td>2.00</td>\n",
       "      <td>Ucrania</td>\n",
       "      <td>2</td>\n",
       "    </tr>\n",
       "  </tbody>\n",
       "</table>\n",
       "</div>"
      ],
      "text/plain": [
       "   edad  estatura nacionalidad c_hijos\n",
       "0    18      1.70         Peru       1\n",
       "1    18      1.65         Peru     dos\n",
       "2    25      1.82         EEUU    cero\n",
       "3    32      2.00      Ucrania       2"
      ]
     },
     "execution_count": 33,
     "metadata": {},
     "output_type": "execute_result"
    }
   ],
   "source": [
    "#cargar documento xlsx\n",
    "df_excel=pd.read_excel(path_excel)\n",
    "df_excel"
   ]
  },
  {
   "cell_type": "code",
   "execution_count": 41,
   "id": "c96ad5f6",
   "metadata": {},
   "outputs": [
    {
     "data": {
      "text/html": [
       "<div>\n",
       "<style scoped>\n",
       "    .dataframe tbody tr th:only-of-type {\n",
       "        vertical-align: middle;\n",
       "    }\n",
       "\n",
       "    .dataframe tbody tr th {\n",
       "        vertical-align: top;\n",
       "    }\n",
       "\n",
       "    .dataframe thead th {\n",
       "        text-align: right;\n",
       "    }\n",
       "</style>\n",
       "<table border=\"1\" class=\"dataframe\">\n",
       "  <thead>\n",
       "    <tr style=\"text-align: right;\">\n",
       "      <th></th>\n",
       "      <th>edad</th>\n",
       "      <th>estatura</th>\n",
       "      <th>nacionalidad</th>\n",
       "      <th>c_hijos</th>\n",
       "    </tr>\n",
       "  </thead>\n",
       "  <tbody>\n",
       "    <tr>\n",
       "      <th>0</th>\n",
       "      <td>18</td>\n",
       "      <td>1.70</td>\n",
       "      <td>Peru</td>\n",
       "      <td>1</td>\n",
       "    </tr>\n",
       "    <tr>\n",
       "      <th>1</th>\n",
       "      <td>18</td>\n",
       "      <td>1.65</td>\n",
       "      <td>Peru</td>\n",
       "      <td>dos</td>\n",
       "    </tr>\n",
       "    <tr>\n",
       "      <th>2</th>\n",
       "      <td>25</td>\n",
       "      <td>1.82</td>\n",
       "      <td>EEUU</td>\n",
       "      <td>cero</td>\n",
       "    </tr>\n",
       "    <tr>\n",
       "      <th>3</th>\n",
       "      <td>32</td>\n",
       "      <td>2.00</td>\n",
       "      <td>Ucrania</td>\n",
       "      <td>2</td>\n",
       "    </tr>\n",
       "  </tbody>\n",
       "</table>\n",
       "</div>"
      ],
      "text/plain": [
       "   edad  estatura nacionalidad c_hijos\n",
       "0    18      1.70         Peru       1\n",
       "1    18      1.65         Peru     dos\n",
       "2    25      1.82         EEUU    cero\n",
       "3    32      2.00      Ucrania       2"
      ]
     },
     "execution_count": 41,
     "metadata": {},
     "output_type": "execute_result"
    }
   ],
   "source": [
    "#cargar documento json\n",
    "df_json=pd.read_json(path_json)\n",
    "df_json"
   ]
  }
 ],
 "metadata": {
  "kernelspec": {
   "display_name": "_env",
   "language": "python",
   "name": "python3"
  },
  "language_info": {
   "codemirror_mode": {
    "name": "ipython",
    "version": 3
   },
   "file_extension": ".py",
   "mimetype": "text/x-python",
   "name": "python",
   "nbconvert_exporter": "python",
   "pygments_lexer": "ipython3",
   "version": "3.13.3"
  }
 },
 "nbformat": 4,
 "nbformat_minor": 5
}
